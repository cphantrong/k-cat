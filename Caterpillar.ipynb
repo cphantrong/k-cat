{
 "cells": [
  {
   "cell_type": "code",
   "execution_count": 1,
   "metadata": {
    "collapsed": false
   },
   "outputs": [
    {
     "name": "stdout",
     "output_type": "stream",
     "text": [
      "Populating the interactive namespace from numpy and matplotlib\n"
     ]
    },
    {
     "name": "stderr",
     "output_type": "stream",
     "text": [
      "WARNING: pylab import has clobbered these variables: ['plt']\n",
      "`%matplotlib` prevents importing * from pylab and numpy\n"
     ]
    }
   ],
   "source": [
    "import pandas as pd\n",
    "import matplotlib as plt\n",
    "%pylab inline"
   ]
  },
  {
   "cell_type": "markdown",
   "metadata": {},
   "source": [
    "# Fonctions"
   ]
  },
  {
   "cell_type": "markdown",
   "metadata": {},
   "source": [
    "## Fonction d'évaluation du score de la prédiction"
   ]
  },
  {
   "cell_type": "code",
   "execution_count": 28,
   "metadata": {
    "collapsed": false
   },
   "outputs": [],
   "source": [
    "def rmsle(prediction, actual):\n",
    "    assert len(prediction) == len(actual)\n",
    "    return np.sqrt(np.mean(np.power(np.log1p(prediction)-np.log1p(actual),2)))"
   ]
  },
  {
   "cell_type": "markdown",
   "metadata": {},
   "source": [
    "### Faire de cette fonction un scorer utilisable dans sklearn"
   ]
  },
  {
   "cell_type": "code",
   "execution_count": 29,
   "metadata": {
    "collapsed": true
   },
   "outputs": [],
   "source": [
    "from sklearn.metrics import make_scorer\n",
    "rmsle_scorer = make_scorer(rmsle)"
   ]
  },
  {
   "cell_type": "markdown",
   "metadata": {},
   "source": [
    "## Fonction d'évaluation de modèle\n",
    "\n",
    "Cette fonction \n",
    "* evalue l'algorithme passé en paramêtre sur les X,y passés\n",
    "* fit l'algorithme\n",
    "* crée un graphique avec les influences de chaque feature de X"
   ]
  },
  {
   "cell_type": "code",
   "execution_count": 39,
   "metadata": {
    "collapsed": false
   },
   "outputs": [],
   "source": [
    "def evaluate_model(evaluator, X,y):\n",
    "    from sklearn.cross_validation import cross_val_score\n",
    "    print 'Evaluator is: ' + str(evaluator)\n",
    "    print 'Mean score on 20 iterations is: '+str(mean(cross_val_score(evaluator, X, y, rmsle_scorer, cv = 20)))\n",
    "    lr.fit(X,y)\n",
    "    pd.DataFrame(lr.coef_, index=X.columns).plot(kind=\"bar\")"
   ]
  },
  {
   "cell_type": "markdown",
   "metadata": {},
   "source": [
    "## Génération du fichier de Soumission\n",
    "Cette fonction génére le fichier au format attendu en enlevant les valeurs négatives.\n",
    "\n",
    "Les paramêtres attendus sont\n",
    "1. un dataframe comportant une colonne 'id' avec les identifiants des observations\n",
    "2. un dataframe comportant les prédictions correspondant aux observations (donc classés dans le même ordre) dans une colonne 'cost'"
   ]
  },
  {
   "cell_type": "code",
   "execution_count": 30,
   "metadata": {
    "collapsed": false
   },
   "outputs": [],
   "source": [
    "def submitForCaterpillar(X,y):\n",
    "    from datetime import datetime\n",
    "    \n",
    "    # verify if assumptions on input are met\n",
    "    assert len(X) == len(y)\n",
    "    assert ('cost' in y.columns)\n",
    "    assert ('id' in X.columns)\n",
    "    \n",
    "    # compute target filename\n",
    "    timestamp = datetime.now().strftime('%Y-%m-%d-%H-%M')\n",
    "    name = 'submit/submit_%s.csv' %timestamp\n",
    "    \n",
    "    # initialize target df\n",
    "    preds = pd.DataFrame()\n",
    "    # add cost column from y\n",
    "    preds = pd.DataFrame(y,columns=['cost'])\n",
    "    # add id column from X\n",
    "    preds['id'] = X.id\n",
    "    # reorder df\n",
    "    preds = preds[['id','cost']]\n",
    "    \n",
    "    # Print if negative values were clipped\n",
    "    negCosts = len (y.copy()[y.cost < 0])\n",
    "    if negCosts != 0:\n",
    "        print ('setting '+ str(negCosts)+' negative cost values to zero')\n",
    "    \n",
    "    # Clip negative values\n",
    "    preds.cost = preds.cost.clip(0)\n",
    "    \n",
    "    # Generate CSV file \n",
    "    preds.to_csv(name,index=False)\n",
    "    print 'generated '+name"
   ]
  },
  {
   "cell_type": "markdown",
   "metadata": {},
   "source": [
    "# Caterpillar\n",
    "## Read train data set"
   ]
  },
  {
   "cell_type": "code",
   "execution_count": 3,
   "metadata": {
    "collapsed": false
   },
   "outputs": [],
   "source": [
    "train = pd.read_csv('data/train_set.csv')"
   ]
  },
  {
   "cell_type": "code",
   "execution_count": 4,
   "metadata": {
    "collapsed": false
   },
   "outputs": [],
   "source": [
    "# train.shape"
   ]
  },
  {
   "cell_type": "code",
   "execution_count": 5,
   "metadata": {
    "collapsed": false
   },
   "outputs": [],
   "source": [
    "# train.dtypes"
   ]
  },
  {
   "cell_type": "code",
   "execution_count": 6,
   "metadata": {
    "collapsed": false
   },
   "outputs": [],
   "source": [
    "# train.head()"
   ]
  },
  {
   "cell_type": "code",
   "execution_count": 7,
   "metadata": {
    "collapsed": false,
    "scrolled": true
   },
   "outputs": [],
   "source": [
    "# train.describe()"
   ]
  },
  {
   "cell_type": "markdown",
   "metadata": {},
   "source": [
    "##Modèle 0 : quick & Dirty avec un seul fichier sans jointures"
   ]
  },
  {
   "cell_type": "markdown",
   "metadata": {},
   "source": [
    "### Fonction de découpage du fichier train avec sélection des seules features numériques  "
   ]
  },
  {
   "cell_type": "code",
   "execution_count": 8,
   "metadata": {
    "collapsed": false
   },
   "outputs": [],
   "source": [
    "def parse_0(X):\n",
    "    target = X['cost']\n",
    "    X = X[['annual_usage', 'min_order_quantity','quantity']]\n",
    "    return X, target"
   ]
  },
  {
   "cell_type": "markdown",
   "metadata": {},
   "source": [
    "### Entrainement de l'agorithme de régression linéaire"
   ]
  },
  {
   "cell_type": "code",
   "execution_count": 11,
   "metadata": {
    "collapsed": true
   },
   "outputs": [],
   "source": [
    "from sklearn.linear_model import LinearRegression\n",
    "from sklearn.cross_validation import train_test_split"
   ]
  },
  {
   "cell_type": "code",
   "execution_count": 12,
   "metadata": {
    "collapsed": false
   },
   "outputs": [
    {
     "name": "stdout",
     "output_type": "stream",
     "text": [
      "score is 1.21961424554\n"
     ]
    },
    {
     "data": {
      "text/plain": [
       "<matplotlib.axes._subplots.AxesSubplot at 0x16f87320>"
      ]
     },
     "execution_count": 12,
     "metadata": {},
     "output_type": "execute_result"
    },
    {
     "data": {
      "image/png": "[encoded data removed]",
      "text/plain": [
       "<matplotlib.figure.Figure at 0x16d09e10>"
      ]
     },
     "metadata": {},
     "output_type": "display_data"
    }
   ],
   "source": [
    "X,y = parse_0(train[train.annual_usage<100000]) # enlève 2 valeurs atypiques. Shape du résultat = (30211, 3)\n",
    "X_train, X_test, y_train, y_test = train_test_split(X,y, random_state=0)\n",
    "lr = LinearRegression()\n",
    "lr.fit(X_train,y_train)\n",
    "print('score is '+str(rmsle(lr.predict(X_test),y_test)))\n",
    "pd.DataFrame(lr.coef_, index=X.columns).plot(kind=\"bar\")"
   ]
  },
  {
   "cell_type": "code",
   "execution_count": 40,
   "metadata": {
    "collapsed": false
   },
   "outputs": [
    {
     "name": "stdout",
     "output_type": "stream",
     "text": [
      "Evaluator is: LinearRegression(copy_X=True, fit_intercept=True, n_jobs=1, normalize=False)\n",
      "Mean score on 20 iterations is: 1.02679598847\n"
     ]
    },
    {
     "data": {
      "image/png": "[encoded data removed]",
      "text/plain": [
       "<matplotlib.figure.Figure at 0x1a461748>"
      ]
     },
     "metadata": {},
     "output_type": "display_data"
    }
   ],
   "source": [
    "X,y = parse_0(train[train.annual_usage<100000]) # enlève 2 valeurs atypiques. Shape du résultat = (30211, 3)\n",
    "lr = LinearRegression()\n",
    "evaluate_model(lr,X,y)"
   ]
  },
  {
   "cell_type": "markdown",
   "metadata": {},
   "source": [
    "### Générer le submission_set"
   ]
  },
  {
   "cell_type": "code",
   "execution_count": 14,
   "metadata": {
    "collapsed": false
   },
   "outputs": [
    {
     "name": "stdout",
     "output_type": "stream",
     "text": [
      "setting 2313 negative cost values to zero\n",
      "generated submit/submit_2015-08-10-22-57.csv\n"
     ]
    }
   ],
   "source": [
    "test = pd.read_csv('data/test_set.csv')\n",
    "X = test[['annual_usage', 'min_order_quantity','quantity']]\n",
    "preds = pd.DataFrame(lr.predict(X),columns=['cost'])\n",
    "submitForCaterpillar(test,preds)"
   ]
  },
  {
   "cell_type": "code",
   "execution_count": 15,
   "metadata": {
    "collapsed": false
   },
   "outputs": [],
   "source": [
    "#test.shape"
   ]
  },
  {
   "cell_type": "code",
   "execution_count": 16,
   "metadata": {
    "collapsed": false
   },
   "outputs": [],
   "source": [
    "#test.head()"
   ]
  },
  {
   "cell_type": "code",
   "execution_count": 17,
   "metadata": {
    "collapsed": false
   },
   "outputs": [],
   "source": [
    "#preds.head()"
   ]
  },
  {
   "cell_type": "code",
   "execution_count": 18,
   "metadata": {
    "collapsed": false
   },
   "outputs": [],
   "source": [
    "#test.count()"
   ]
  },
  {
   "cell_type": "code",
   "execution_count": 132,
   "metadata": {
    "collapsed": false
   },
   "outputs": [],
   "source": [
    "#print(X.shape,test.shape,preds.shape)"
   ]
  },
  {
   "cell_type": "markdown",
   "metadata": {},
   "source": [
    "## Modèle 1. Avec dummysation de bracket pricing"
   ]
  },
  {
   "cell_type": "code",
   "execution_count": 44,
   "metadata": {
    "collapsed": false
   },
   "outputs": [],
   "source": [
    "def parse_1(X):\n",
    "    target = pd.DataFrame([])\n",
    "    if 'cost' in X.columns:\n",
    "        # si on passe le jeu de test réel, cost n'est pas là\n",
    "        target = X['cost']\n",
    "    X = X[['annual_usage', 'min_order_quantity','quantity','bracket_pricing']]\n",
    "    to_dum = ['bracket_pricing']\n",
    "    for col in to_dum:\n",
    "        dums = pd.get_dummies(X[col], prefix=col)\n",
    "        X = X.join(dums)\n",
    "    del X['bracket_pricing']\n",
    "    return X, target"
   ]
  },
  {
   "cell_type": "code",
   "execution_count": 45,
   "metadata": {
    "collapsed": false
   },
   "outputs": [],
   "source": [
    "X,y = parse_1(train.copy())"
   ]
  },
  {
   "cell_type": "code",
   "execution_count": 25,
   "metadata": {
    "collapsed": false
   },
   "outputs": [
    {
     "data": {
      "text/html": [
       "<div>\n",
       "<table border=\"1\" class=\"dataframe\">\n",
       "  <thead>\n",
       "    <tr style=\"text-align: right;\">\n",
       "      <th></th>\n",
       "      <th>annual_usage</th>\n",
       "      <th>min_order_quantity</th>\n",
       "      <th>quantity</th>\n",
       "      <th>bracket_pricing_No</th>\n",
       "      <th>bracket_pricing_Yes</th>\n",
       "    </tr>\n",
       "  </thead>\n",
       "  <tbody>\n",
       "    <tr>\n",
       "      <th>0</th>\n",
       "      <td>0</td>\n",
       "      <td>0</td>\n",
       "      <td>1</td>\n",
       "      <td>0</td>\n",
       "      <td>1</td>\n",
       "    </tr>\n",
       "    <tr>\n",
       "      <th>1</th>\n",
       "      <td>0</td>\n",
       "      <td>0</td>\n",
       "      <td>2</td>\n",
       "      <td>0</td>\n",
       "      <td>1</td>\n",
       "    </tr>\n",
       "    <tr>\n",
       "      <th>2</th>\n",
       "      <td>0</td>\n",
       "      <td>0</td>\n",
       "      <td>5</td>\n",
       "      <td>0</td>\n",
       "      <td>1</td>\n",
       "    </tr>\n",
       "    <tr>\n",
       "      <th>3</th>\n",
       "      <td>0</td>\n",
       "      <td>0</td>\n",
       "      <td>10</td>\n",
       "      <td>0</td>\n",
       "      <td>1</td>\n",
       "    </tr>\n",
       "    <tr>\n",
       "      <th>4</th>\n",
       "      <td>0</td>\n",
       "      <td>0</td>\n",
       "      <td>25</td>\n",
       "      <td>0</td>\n",
       "      <td>1</td>\n",
       "    </tr>\n",
       "  </tbody>\n",
       "</table>\n",
       "</div>"
      ],
      "text/plain": [
       "   annual_usage  min_order_quantity  quantity  bracket_pricing_No  \\\n",
       "0             0                   0         1                   0   \n",
       "1             0                   0         2                   0   \n",
       "2             0                   0         5                   0   \n",
       "3             0                   0        10                   0   \n",
       "4             0                   0        25                   0   \n",
       "\n",
       "   bracket_pricing_Yes  \n",
       "0                    1  \n",
       "1                    1  \n",
       "2                    1  \n",
       "3                    1  \n",
       "4                    1  "
      ]
     },
     "execution_count": 25,
     "metadata": {},
     "output_type": "execute_result"
    }
   ],
   "source": [
    "X.head()"
   ]
  },
  {
   "cell_type": "markdown",
   "metadata": {},
   "source": [
    "### Application d'une régression linéaire simple"
   ]
  },
  {
   "cell_type": "code",
   "execution_count": 58,
   "metadata": {
    "collapsed": false
   },
   "outputs": [
    {
     "name": "stdout",
     "output_type": "stream",
     "text": [
      "Evaluator is: LinearRegression(copy_X=True, fit_intercept=True, n_jobs=1, normalize=False)\n",
      "Mean score on 20 iterations is: 0.953880900538\n"
     ]
    },
    {
     "data": {
      "image/png": "[encoded data removed]",
      "text/plain": [
       "<matplotlib.figure.Figure at 0x1bcacac8>"
      ]
     },
     "metadata": {},
     "output_type": "display_data"
    }
   ],
   "source": [
    "X,y = parse_1(train.copy())\n",
    "from sklearn.linear_model import LinearRegression\n",
    "lr = LinearRegression()\n",
    "evaluate_model(lr,X,y)"
   ]
  },
  {
   "cell_type": "markdown",
   "metadata": {},
   "source": [
    "### Génération fichier de soumission"
   ]
  },
  {
   "cell_type": "code",
   "execution_count": 62,
   "metadata": {
    "collapsed": false
   },
   "outputs": [
    {
     "name": "stdout",
     "output_type": "stream",
     "text": [
      "setting 109 negative cost values to zero\n",
      "generated submit/submit_2015-08-10-23-32.csv\n"
     ]
    }
   ],
   "source": [
    "test = pd.read_csv('data/test_set.csv')\n",
    "X, y = parse_1(test)\n",
    "lr.predict(X)\n",
    "preds = pd.DataFrame(lr.predict(X),columns=['cost'])\n",
    "submitForCaterpillar(test,preds)"
   ]
  },
  {
   "cell_type": "markdown",
   "metadata": {},
   "source": [
    "## Autre essai à refactorer"
   ]
  },
  {
   "cell_type": "code",
   "execution_count": 63,
   "metadata": {
    "collapsed": false
   },
   "outputs": [
    {
     "data": {
      "text/plain": [
       "Yes    26282\n",
       "dtype: int64"
      ]
     },
     "execution_count": 63,
     "metadata": {},
     "output_type": "execute_result"
    }
   ],
   "source": [
    "train_base = pd.read_csv('data/train_set.csv')\n",
    "train_br =  train_base[train_base.bracket_pricing==\"Yes\"]\n",
    "train_br = train_br[train_br.annual_usage<100000]\n",
    "train_br.bracket_pricing.value_counts()"
   ]
  },
  {
   "cell_type": "code",
   "execution_count": 64,
   "metadata": {
    "collapsed": false
   },
   "outputs": [
    {
     "data": {
      "text/plain": [
       "No    3929\n",
       "dtype: int64"
      ]
     },
     "execution_count": 64,
     "metadata": {},
     "output_type": "execute_result"
    }
   ],
   "source": [
    "train_nbr = train_base[train_base.bracket_pricing==\"No\"]\n",
    "train_nbr = train_nbr[train_nbr.annual_usage<100000]\n",
    "train_nbr.bracket_pricing.value_counts()"
   ]
  },
  {
   "cell_type": "code",
   "execution_count": 65,
   "metadata": {
    "collapsed": true
   },
   "outputs": [],
   "source": [
    "X,y = parse_1(train_br)"
   ]
  },
  {
   "cell_type": "code",
   "execution_count": 66,
   "metadata": {
    "collapsed": false
   },
   "outputs": [],
   "source": [
    "X = X[['annual_usage', 'quantity']]"
   ]
  },
  {
   "cell_type": "code",
   "execution_count": 67,
   "metadata": {
    "collapsed": false
   },
   "outputs": [
    {
     "name": "stdout",
     "output_type": "stream",
     "text": [
      "Evaluator is: LinearRegression(copy_X=True, fit_intercept=True, n_jobs=1, normalize=False)\n",
      "Mean score on 20 iterations is: 0.910097688146\n"
     ]
    },
    {
     "data": {
      "image/png": "[encoded data removed]",
      "text/plain": [
       "<matplotlib.figure.Figure at 0x1efa2400>"
      ]
     },
     "metadata": {},
     "output_type": "display_data"
    }
   ],
   "source": [
    "evaluate_model(lr,X,y)"
   ]
  },
  {
   "cell_type": "code",
   "execution_count": 68,
   "metadata": {
    "collapsed": false
   },
   "outputs": [
    {
     "ename": "NameError",
     "evalue": "name 'tube' is not defined",
     "output_type": "error",
     "traceback": [
      "\u001b[1;31m---------------------------------------------------------------------------\u001b[0m",
      "\u001b[1;31mNameError\u001b[0m                                 Traceback (most recent call last)",
      "\u001b[1;32m<ipython-input-68-9cbc3ef7fda3>\u001b[0m in \u001b[0;36m<module>\u001b[1;34m()\u001b[0m\n\u001b[1;32m----> 1\u001b[1;33m \u001b[0mpd\u001b[0m\u001b[1;33m.\u001b[0m\u001b[0mmerge\u001b[0m\u001b[1;33m(\u001b[0m\u001b[0mtrain\u001b[0m\u001b[1;33m,\u001b[0m\u001b[0mtube\u001b[0m\u001b[1;33m,\u001b[0m \u001b[0mon\u001b[0m\u001b[1;33m=\u001b[0m\u001b[1;34m'tube_assembly_id'\u001b[0m\u001b[1;33m)\u001b[0m\u001b[1;33m\u001b[0m\u001b[0m\n\u001b[0m",
      "\u001b[1;31mNameError\u001b[0m: name 'tube' is not defined"
     ]
    }
   ],
   "source": [
    "pd.merge(train,tube, on='tube_assembly_id')"
   ]
  },
  {
   "cell_type": "markdown",
   "metadata": {},
   "source": [
    "## Appliquer un random Forrest"
   ]
  },
  {
   "cell_type": "code",
   "execution_count": 224,
   "metadata": {
    "collapsed": false
   },
   "outputs": [
    {
     "data": {
      "text/plain": [
       "0.94748992900412188"
      ]
     },
     "execution_count": 224,
     "metadata": {},
     "output_type": "execute_result"
    }
   ],
   "source": [
    "rmsle(train.cost, np.ones(train.shape[0])*train.cost.mean())"
   ]
  },
  {
   "cell_type": "code",
   "execution_count": 69,
   "metadata": {
    "collapsed": false,
    "scrolled": true
   },
   "outputs": [
    {
     "name": "stdout",
     "output_type": "stream",
     "text": [
      "Evaluator is: RandomForestRegressor(bootstrap=True, criterion='mse', max_depth=25,\n",
      "           max_features='auto', max_leaf_nodes=None, min_samples_leaf=1,\n",
      "           min_samples_split=2, min_weight_fraction_leaf=0.0,\n",
      "           n_estimators=40, n_jobs=1, oob_score=False, random_state=None,\n",
      "           verbose=0, warm_start=False)\n",
      "Mean score on 20 iterations is: 0.578529298492\n"
     ]
    },
    {
     "data": {
      "image/png": "[encoded data removed]",
      "text/plain": [
       "<matplotlib.figure.Figure at 0x1a800a20>"
      ]
     },
     "metadata": {},
     "output_type": "display_data"
    }
   ],
   "source": [
    "import sklearn.ensemble as en\n",
    "rf = en.RandomForestRegressor(n_estimators=40, max_depth=25)\n",
    "X,y = parse_1(train.copy())\n",
    "evaluate_model(rf,X,y)"
   ]
  },
  {
   "cell_type": "markdown",
   "metadata": {},
   "source": [
    "## ajouter des variables par join"
   ]
  },
  {
   "cell_type": "code",
   "execution_count": 321,
   "metadata": {
    "collapsed": false
   },
   "outputs": [
    {
     "data": {
      "text/html": [
       "<div>\n",
       "<table border=\"1\" class=\"dataframe\">\n",
       "  <thead>\n",
       "    <tr style=\"text-align: right;\">\n",
       "      <th></th>\n",
       "      <th>tube_assembly_id</th>\n",
       "      <th>supplier</th>\n",
       "      <th>quote_date</th>\n",
       "      <th>annual_usage</th>\n",
       "      <th>min_order_quantity</th>\n",
       "      <th>bracket_pricing</th>\n",
       "      <th>quantity</th>\n",
       "      <th>cost</th>\n",
       "    </tr>\n",
       "  </thead>\n",
       "  <tbody>\n",
       "    <tr>\n",
       "      <th>0</th>\n",
       "      <td>TA-00002</td>\n",
       "      <td>S-0066</td>\n",
       "      <td>2013-07-07</td>\n",
       "      <td>0</td>\n",
       "      <td>0</td>\n",
       "      <td>Yes</td>\n",
       "      <td>1</td>\n",
       "      <td>21.905933</td>\n",
       "    </tr>\n",
       "    <tr>\n",
       "      <th>1</th>\n",
       "      <td>TA-00002</td>\n",
       "      <td>S-0066</td>\n",
       "      <td>2013-07-07</td>\n",
       "      <td>0</td>\n",
       "      <td>0</td>\n",
       "      <td>Yes</td>\n",
       "      <td>2</td>\n",
       "      <td>12.341214</td>\n",
       "    </tr>\n",
       "    <tr>\n",
       "      <th>2</th>\n",
       "      <td>TA-00002</td>\n",
       "      <td>S-0066</td>\n",
       "      <td>2013-07-07</td>\n",
       "      <td>0</td>\n",
       "      <td>0</td>\n",
       "      <td>Yes</td>\n",
       "      <td>5</td>\n",
       "      <td>6.601826</td>\n",
       "    </tr>\n",
       "    <tr>\n",
       "      <th>3</th>\n",
       "      <td>TA-00002</td>\n",
       "      <td>S-0066</td>\n",
       "      <td>2013-07-07</td>\n",
       "      <td>0</td>\n",
       "      <td>0</td>\n",
       "      <td>Yes</td>\n",
       "      <td>10</td>\n",
       "      <td>4.687770</td>\n",
       "    </tr>\n",
       "    <tr>\n",
       "      <th>4</th>\n",
       "      <td>TA-00002</td>\n",
       "      <td>S-0066</td>\n",
       "      <td>2013-07-07</td>\n",
       "      <td>0</td>\n",
       "      <td>0</td>\n",
       "      <td>Yes</td>\n",
       "      <td>25</td>\n",
       "      <td>3.541561</td>\n",
       "    </tr>\n",
       "  </tbody>\n",
       "</table>\n",
       "</div>"
      ],
      "text/plain": [
       "  tube_assembly_id supplier  quote_date  annual_usage  min_order_quantity  \\\n",
       "0         TA-00002   S-0066  2013-07-07             0                   0   \n",
       "1         TA-00002   S-0066  2013-07-07             0                   0   \n",
       "2         TA-00002   S-0066  2013-07-07             0                   0   \n",
       "3         TA-00002   S-0066  2013-07-07             0                   0   \n",
       "4         TA-00002   S-0066  2013-07-07             0                   0   \n",
       "\n",
       "  bracket_pricing  quantity       cost  \n",
       "0             Yes         1  21.905933  \n",
       "1             Yes         2  12.341214  \n",
       "2             Yes         5   6.601826  \n",
       "3             Yes        10   4.687770  \n",
       "4             Yes        25   3.541561  "
      ]
     },
     "execution_count": 321,
     "metadata": {},
     "output_type": "execute_result"
    }
   ],
   "source": [
    "pd.read_csv('data/train_set.csv').head()"
   ]
  },
  {
   "cell_type": "code",
   "execution_count": 327,
   "metadata": {
    "collapsed": true
   },
   "outputs": [],
   "source": [
    "def parse_2(X):\n",
    "    target = pd.DataFrame([])\n",
    "    if 'cost' in X.columns:\n",
    "        # si on passe le jeu de test réel, cost n'est pas là\n",
    "        target = X['cost']\n",
    "        X = X[['annual_usage', 'min_order_quantity','quantity','bracket_pricing','wall','length', 'num_bends','bend_radius','num_boss','num_bracket','other']]\n",
    "    else:\n",
    "        X = X[['id','annual_usage', 'min_order_quantity','quantity','bracket_pricing','wall','length', 'num_bends','bend_radius','num_boss','num_bracket','other']]\n",
    "  \n",
    "    to_dum = ['bracket_pricing']\n",
    "    for col in to_dum:\n",
    "        dums = pd.get_dummies(X[col], prefix=col)\n",
    "        X = X.join(dums)\n",
    "    del X['bracket_pricing']\n",
    "    return X, target"
   ]
  },
  {
   "cell_type": "code",
   "execution_count": 233,
   "metadata": {
    "collapsed": false
   },
   "outputs": [
    {
     "data": {
      "text/html": [
       "<div>\n",
       "<table border=\"1\" class=\"dataframe\">\n",
       "  <thead>\n",
       "    <tr style=\"text-align: right;\">\n",
       "      <th></th>\n",
       "      <th>tube_assembly_id</th>\n",
       "      <th>supplier</th>\n",
       "      <th>quote_date</th>\n",
       "      <th>annual_usage</th>\n",
       "      <th>min_order_quantity</th>\n",
       "      <th>bracket_pricing</th>\n",
       "      <th>quantity</th>\n",
       "      <th>cost</th>\n",
       "    </tr>\n",
       "  </thead>\n",
       "  <tbody>\n",
       "    <tr>\n",
       "      <th>0</th>\n",
       "      <td>TA-00002</td>\n",
       "      <td>S-0066</td>\n",
       "      <td>2013-07-07</td>\n",
       "      <td>0</td>\n",
       "      <td>0</td>\n",
       "      <td>Yes</td>\n",
       "      <td>1</td>\n",
       "      <td>21.905933</td>\n",
       "    </tr>\n",
       "    <tr>\n",
       "      <th>1</th>\n",
       "      <td>TA-00002</td>\n",
       "      <td>S-0066</td>\n",
       "      <td>2013-07-07</td>\n",
       "      <td>0</td>\n",
       "      <td>0</td>\n",
       "      <td>Yes</td>\n",
       "      <td>2</td>\n",
       "      <td>12.341214</td>\n",
       "    </tr>\n",
       "    <tr>\n",
       "      <th>2</th>\n",
       "      <td>TA-00002</td>\n",
       "      <td>S-0066</td>\n",
       "      <td>2013-07-07</td>\n",
       "      <td>0</td>\n",
       "      <td>0</td>\n",
       "      <td>Yes</td>\n",
       "      <td>5</td>\n",
       "      <td>6.601826</td>\n",
       "    </tr>\n",
       "    <tr>\n",
       "      <th>3</th>\n",
       "      <td>TA-00002</td>\n",
       "      <td>S-0066</td>\n",
       "      <td>2013-07-07</td>\n",
       "      <td>0</td>\n",
       "      <td>0</td>\n",
       "      <td>Yes</td>\n",
       "      <td>10</td>\n",
       "      <td>4.687770</td>\n",
       "    </tr>\n",
       "    <tr>\n",
       "      <th>4</th>\n",
       "      <td>TA-00002</td>\n",
       "      <td>S-0066</td>\n",
       "      <td>2013-07-07</td>\n",
       "      <td>0</td>\n",
       "      <td>0</td>\n",
       "      <td>Yes</td>\n",
       "      <td>25</td>\n",
       "      <td>3.541561</td>\n",
       "    </tr>\n",
       "  </tbody>\n",
       "</table>\n",
       "</div>"
      ],
      "text/plain": [
       "  tube_assembly_id supplier  quote_date  annual_usage  min_order_quantity  \\\n",
       "0         TA-00002   S-0066  2013-07-07             0                   0   \n",
       "1         TA-00002   S-0066  2013-07-07             0                   0   \n",
       "2         TA-00002   S-0066  2013-07-07             0                   0   \n",
       "3         TA-00002   S-0066  2013-07-07             0                   0   \n",
       "4         TA-00002   S-0066  2013-07-07             0                   0   \n",
       "\n",
       "  bracket_pricing  quantity       cost  \n",
       "0             Yes         1  21.905933  \n",
       "1             Yes         2  12.341214  \n",
       "2             Yes         5   6.601826  \n",
       "3             Yes        10   4.687770  \n",
       "4             Yes        25   3.541561  "
      ]
     },
     "execution_count": 233,
     "metadata": {},
     "output_type": "execute_result"
    }
   ],
   "source": [
    "train.head()"
   ]
  },
  {
   "cell_type": "code",
   "execution_count": 231,
   "metadata": {
    "collapsed": false,
    "scrolled": true
   },
   "outputs": [
    {
     "data": {
      "text/html": [
       "<div>\n",
       "<table border=\"1\" class=\"dataframe\">\n",
       "  <thead>\n",
       "    <tr style=\"text-align: right;\">\n",
       "      <th></th>\n",
       "      <th>tube_assembly_id</th>\n",
       "      <th>material_id</th>\n",
       "      <th>diameter</th>\n",
       "      <th>wall</th>\n",
       "      <th>length</th>\n",
       "      <th>num_bends</th>\n",
       "      <th>bend_radius</th>\n",
       "      <th>end_a_1x</th>\n",
       "      <th>end_a_2x</th>\n",
       "      <th>end_x_1x</th>\n",
       "      <th>end_x_2x</th>\n",
       "      <th>end_a</th>\n",
       "      <th>end_x</th>\n",
       "      <th>num_boss</th>\n",
       "      <th>num_bracket</th>\n",
       "      <th>other</th>\n",
       "    </tr>\n",
       "  </thead>\n",
       "  <tbody>\n",
       "    <tr>\n",
       "      <th>0</th>\n",
       "      <td>TA-00001</td>\n",
       "      <td>SP-0035</td>\n",
       "      <td>12.70</td>\n",
       "      <td>1.65</td>\n",
       "      <td>164</td>\n",
       "      <td>5</td>\n",
       "      <td>38.10</td>\n",
       "      <td>N</td>\n",
       "      <td>N</td>\n",
       "      <td>N</td>\n",
       "      <td>N</td>\n",
       "      <td>EF-003</td>\n",
       "      <td>EF-003</td>\n",
       "      <td>0</td>\n",
       "      <td>0</td>\n",
       "      <td>0</td>\n",
       "    </tr>\n",
       "    <tr>\n",
       "      <th>1</th>\n",
       "      <td>TA-00002</td>\n",
       "      <td>SP-0019</td>\n",
       "      <td>6.35</td>\n",
       "      <td>0.71</td>\n",
       "      <td>137</td>\n",
       "      <td>8</td>\n",
       "      <td>19.05</td>\n",
       "      <td>N</td>\n",
       "      <td>N</td>\n",
       "      <td>N</td>\n",
       "      <td>N</td>\n",
       "      <td>EF-008</td>\n",
       "      <td>EF-008</td>\n",
       "      <td>0</td>\n",
       "      <td>0</td>\n",
       "      <td>0</td>\n",
       "    </tr>\n",
       "    <tr>\n",
       "      <th>2</th>\n",
       "      <td>TA-00003</td>\n",
       "      <td>SP-0019</td>\n",
       "      <td>6.35</td>\n",
       "      <td>0.71</td>\n",
       "      <td>127</td>\n",
       "      <td>7</td>\n",
       "      <td>19.05</td>\n",
       "      <td>N</td>\n",
       "      <td>N</td>\n",
       "      <td>N</td>\n",
       "      <td>N</td>\n",
       "      <td>EF-008</td>\n",
       "      <td>EF-008</td>\n",
       "      <td>0</td>\n",
       "      <td>0</td>\n",
       "      <td>0</td>\n",
       "    </tr>\n",
       "    <tr>\n",
       "      <th>3</th>\n",
       "      <td>TA-00004</td>\n",
       "      <td>SP-0019</td>\n",
       "      <td>6.35</td>\n",
       "      <td>0.71</td>\n",
       "      <td>137</td>\n",
       "      <td>9</td>\n",
       "      <td>19.05</td>\n",
       "      <td>N</td>\n",
       "      <td>N</td>\n",
       "      <td>N</td>\n",
       "      <td>N</td>\n",
       "      <td>EF-008</td>\n",
       "      <td>EF-008</td>\n",
       "      <td>0</td>\n",
       "      <td>0</td>\n",
       "      <td>0</td>\n",
       "    </tr>\n",
       "    <tr>\n",
       "      <th>4</th>\n",
       "      <td>TA-00005</td>\n",
       "      <td>SP-0029</td>\n",
       "      <td>19.05</td>\n",
       "      <td>1.24</td>\n",
       "      <td>109</td>\n",
       "      <td>4</td>\n",
       "      <td>50.80</td>\n",
       "      <td>N</td>\n",
       "      <td>N</td>\n",
       "      <td>N</td>\n",
       "      <td>N</td>\n",
       "      <td>EF-003</td>\n",
       "      <td>EF-003</td>\n",
       "      <td>0</td>\n",
       "      <td>0</td>\n",
       "      <td>0</td>\n",
       "    </tr>\n",
       "  </tbody>\n",
       "</table>\n",
       "</div>"
      ],
      "text/plain": [
       "  tube_assembly_id material_id  diameter  wall  length  num_bends  \\\n",
       "0         TA-00001     SP-0035     12.70  1.65     164          5   \n",
       "1         TA-00002     SP-0019      6.35  0.71     137          8   \n",
       "2         TA-00003     SP-0019      6.35  0.71     127          7   \n",
       "3         TA-00004     SP-0019      6.35  0.71     137          9   \n",
       "4         TA-00005     SP-0029     19.05  1.24     109          4   \n",
       "\n",
       "   bend_radius end_a_1x end_a_2x end_x_1x end_x_2x   end_a   end_x  num_boss  \\\n",
       "0        38.10        N        N        N        N  EF-003  EF-003         0   \n",
       "1        19.05        N        N        N        N  EF-008  EF-008         0   \n",
       "2        19.05        N        N        N        N  EF-008  EF-008         0   \n",
       "3        19.05        N        N        N        N  EF-008  EF-008         0   \n",
       "4        50.80        N        N        N        N  EF-003  EF-003         0   \n",
       "\n",
       "   num_bracket  other  \n",
       "0            0      0  \n",
       "1            0      0  \n",
       "2            0      0  \n",
       "3            0      0  \n",
       "4            0      0  "
      ]
     },
     "execution_count": 231,
     "metadata": {},
     "output_type": "execute_result"
    }
   ],
   "source": [
    "tube = pd.read_csv('data/tube.csv')\n",
    "tube.head()"
   ]
  },
  {
   "cell_type": "code",
   "execution_count": 232,
   "metadata": {
    "collapsed": false
   },
   "outputs": [
    {
     "data": {
      "text/html": [
       "<div>\n",
       "<table border=\"1\" class=\"dataframe\">\n",
       "  <thead>\n",
       "    <tr style=\"text-align: right;\">\n",
       "      <th></th>\n",
       "      <th>component_id</th>\n",
       "      <th>component_type_id</th>\n",
       "      <th>adaptor_angle</th>\n",
       "      <th>overall_length</th>\n",
       "      <th>end_form_id_1</th>\n",
       "      <th>connection_type_id_1</th>\n",
       "      <th>length_1</th>\n",
       "      <th>thread_size_1</th>\n",
       "      <th>thread_pitch_1</th>\n",
       "      <th>nominal_size_1</th>\n",
       "      <th>end_form_id_2</th>\n",
       "      <th>connection_type_id_2</th>\n",
       "      <th>length_2</th>\n",
       "      <th>thread_size_2</th>\n",
       "      <th>thread_pitch_2</th>\n",
       "      <th>nominal_size_2</th>\n",
       "      <th>hex_size</th>\n",
       "      <th>unique_feature</th>\n",
       "      <th>orientation</th>\n",
       "      <th>weight</th>\n",
       "    </tr>\n",
       "  </thead>\n",
       "  <tbody>\n",
       "    <tr>\n",
       "      <th>0</th>\n",
       "      <td>C-0005</td>\n",
       "      <td>CP-028</td>\n",
       "      <td>NaN</td>\n",
       "      <td>58.4</td>\n",
       "      <td>A-001</td>\n",
       "      <td>B-001</td>\n",
       "      <td>NaN</td>\n",
       "      <td>1.312</td>\n",
       "      <td>12</td>\n",
       "      <td>NaN</td>\n",
       "      <td>A-001</td>\n",
       "      <td>B-004</td>\n",
       "      <td>NaN</td>\n",
       "      <td>1.000</td>\n",
       "      <td>11.5</td>\n",
       "      <td>NaN</td>\n",
       "      <td>34.93</td>\n",
       "      <td>No</td>\n",
       "      <td>No</td>\n",
       "      <td>0.206</td>\n",
       "    </tr>\n",
       "    <tr>\n",
       "      <th>1</th>\n",
       "      <td>C-0006</td>\n",
       "      <td>CP-028</td>\n",
       "      <td>NaN</td>\n",
       "      <td>34.8</td>\n",
       "      <td>A-001</td>\n",
       "      <td>B-001</td>\n",
       "      <td>NaN</td>\n",
       "      <td>0.437</td>\n",
       "      <td>20</td>\n",
       "      <td>NaN</td>\n",
       "      <td>A-001</td>\n",
       "      <td>B-005</td>\n",
       "      <td>NaN</td>\n",
       "      <td>0.750</td>\n",
       "      <td>16.0</td>\n",
       "      <td>NaN</td>\n",
       "      <td>22.20</td>\n",
       "      <td>No</td>\n",
       "      <td>No</td>\n",
       "      <td>0.083</td>\n",
       "    </tr>\n",
       "    <tr>\n",
       "      <th>2</th>\n",
       "      <td>C-1435</td>\n",
       "      <td>CP-028</td>\n",
       "      <td>NaN</td>\n",
       "      <td>20.3</td>\n",
       "      <td>A-007</td>\n",
       "      <td>B-004</td>\n",
       "      <td>NaN</td>\n",
       "      <td>NaN</td>\n",
       "      <td>NaN</td>\n",
       "      <td>15.88</td>\n",
       "      <td>A-001</td>\n",
       "      <td>B-007</td>\n",
       "      <td>NaN</td>\n",
       "      <td>0.875</td>\n",
       "      <td>18.0</td>\n",
       "      <td>NaN</td>\n",
       "      <td>22.22</td>\n",
       "      <td>No</td>\n",
       "      <td>No</td>\n",
       "      <td>0.023</td>\n",
       "    </tr>\n",
       "    <tr>\n",
       "      <th>3</th>\n",
       "      <td>C-1546</td>\n",
       "      <td>CP-028</td>\n",
       "      <td>NaN</td>\n",
       "      <td>26.4</td>\n",
       "      <td>A-007</td>\n",
       "      <td>B-004</td>\n",
       "      <td>NaN</td>\n",
       "      <td>0.125</td>\n",
       "      <td>27</td>\n",
       "      <td>NaN</td>\n",
       "      <td>A-001</td>\n",
       "      <td>B-004</td>\n",
       "      <td>NaN</td>\n",
       "      <td>0.125</td>\n",
       "      <td>27.0</td>\n",
       "      <td>NaN</td>\n",
       "      <td>15.88</td>\n",
       "      <td>No</td>\n",
       "      <td>No</td>\n",
       "      <td>0.026</td>\n",
       "    </tr>\n",
       "    <tr>\n",
       "      <th>4</th>\n",
       "      <td>C-1583</td>\n",
       "      <td>CP-028</td>\n",
       "      <td>NaN</td>\n",
       "      <td>44.5</td>\n",
       "      <td>A-001</td>\n",
       "      <td>B-005</td>\n",
       "      <td>NaN</td>\n",
       "      <td>1.312</td>\n",
       "      <td>12</td>\n",
       "      <td>NaN</td>\n",
       "      <td>A-007</td>\n",
       "      <td>B-005</td>\n",
       "      <td>NaN</td>\n",
       "      <td>1.062</td>\n",
       "      <td>12.0</td>\n",
       "      <td>NaN</td>\n",
       "      <td>38.10</td>\n",
       "      <td>No</td>\n",
       "      <td>No</td>\n",
       "      <td>0.256</td>\n",
       "    </tr>\n",
       "  </tbody>\n",
       "</table>\n",
       "</div>"
      ],
      "text/plain": [
       "  component_id component_type_id  adaptor_angle  overall_length end_form_id_1  \\\n",
       "0       C-0005            CP-028            NaN            58.4         A-001   \n",
       "1       C-0006            CP-028            NaN            34.8         A-001   \n",
       "2       C-1435            CP-028            NaN            20.3         A-007   \n",
       "3       C-1546            CP-028            NaN            26.4         A-007   \n",
       "4       C-1583            CP-028            NaN            44.5         A-001   \n",
       "\n",
       "  connection_type_id_1  length_1  thread_size_1  thread_pitch_1  \\\n",
       "0                B-001       NaN          1.312              12   \n",
       "1                B-001       NaN          0.437              20   \n",
       "2                B-004       NaN            NaN             NaN   \n",
       "3                B-004       NaN          0.125              27   \n",
       "4                B-005       NaN          1.312              12   \n",
       "\n",
       "   nominal_size_1 end_form_id_2 connection_type_id_2  length_2  thread_size_2  \\\n",
       "0             NaN         A-001                B-004       NaN          1.000   \n",
       "1             NaN         A-001                B-005       NaN          0.750   \n",
       "2           15.88         A-001                B-007       NaN          0.875   \n",
       "3             NaN         A-001                B-004       NaN          0.125   \n",
       "4             NaN         A-007                B-005       NaN          1.062   \n",
       "\n",
       "   thread_pitch_2  nominal_size_2  hex_size unique_feature orientation  weight  \n",
       "0            11.5             NaN     34.93             No          No   0.206  \n",
       "1            16.0             NaN     22.20             No          No   0.083  \n",
       "2            18.0             NaN     22.22             No          No   0.023  \n",
       "3            27.0             NaN     15.88             No          No   0.026  \n",
       "4            12.0             NaN     38.10             No          No   0.256  "
      ]
     },
     "execution_count": 232,
     "metadata": {},
     "output_type": "execute_result"
    }
   ],
   "source": [
    "comp_adaptator = pd.read_csv('data/comp_adaptor.csv')\n",
    "comp_adaptator.head()"
   ]
  },
  {
   "cell_type": "code",
   "execution_count": 258,
   "metadata": {
    "collapsed": true
   },
   "outputs": [],
   "source": [
    "train = pd.merge(train,tube, on='tube_assembly_id')"
   ]
  },
  {
   "cell_type": "code",
   "execution_count": 256,
   "metadata": {
    "collapsed": false
   },
   "outputs": [
    {
     "data": {
      "text/html": [
       "<div>\n",
       "<table border=\"1\" class=\"dataframe\">\n",
       "  <thead>\n",
       "    <tr style=\"text-align: right;\">\n",
       "      <th></th>\n",
       "      <th>tube_assembly_id</th>\n",
       "      <th>supplier</th>\n",
       "      <th>quote_date</th>\n",
       "      <th>annual_usage</th>\n",
       "      <th>min_order_quantity</th>\n",
       "      <th>bracket_pricing</th>\n",
       "      <th>quantity</th>\n",
       "      <th>cost</th>\n",
       "      <th>material_id_x</th>\n",
       "      <th>diameter_x</th>\n",
       "      <th>...</th>\n",
       "      <th>bend_radius_y</th>\n",
       "      <th>end_a_1x_y</th>\n",
       "      <th>end_a_2x_y</th>\n",
       "      <th>end_x_1x_y</th>\n",
       "      <th>end_x_2x_y</th>\n",
       "      <th>end_a_y</th>\n",
       "      <th>end_x_y</th>\n",
       "      <th>num_boss_y</th>\n",
       "      <th>num_bracket_y</th>\n",
       "      <th>other_y</th>\n",
       "    </tr>\n",
       "  </thead>\n",
       "  <tbody>\n",
       "    <tr>\n",
       "      <th>0</th>\n",
       "      <td>TA-00002</td>\n",
       "      <td>S-0066</td>\n",
       "      <td>2013-07-07</td>\n",
       "      <td>0</td>\n",
       "      <td>0</td>\n",
       "      <td>Yes</td>\n",
       "      <td>1</td>\n",
       "      <td>21.905933</td>\n",
       "      <td>SP-0019</td>\n",
       "      <td>6.35</td>\n",
       "      <td>...</td>\n",
       "      <td>19.05</td>\n",
       "      <td>N</td>\n",
       "      <td>N</td>\n",
       "      <td>N</td>\n",
       "      <td>N</td>\n",
       "      <td>EF-008</td>\n",
       "      <td>EF-008</td>\n",
       "      <td>0</td>\n",
       "      <td>0</td>\n",
       "      <td>0</td>\n",
       "    </tr>\n",
       "    <tr>\n",
       "      <th>1</th>\n",
       "      <td>TA-00002</td>\n",
       "      <td>S-0066</td>\n",
       "      <td>2013-07-07</td>\n",
       "      <td>0</td>\n",
       "      <td>0</td>\n",
       "      <td>Yes</td>\n",
       "      <td>2</td>\n",
       "      <td>12.341214</td>\n",
       "      <td>SP-0019</td>\n",
       "      <td>6.35</td>\n",
       "      <td>...</td>\n",
       "      <td>19.05</td>\n",
       "      <td>N</td>\n",
       "      <td>N</td>\n",
       "      <td>N</td>\n",
       "      <td>N</td>\n",
       "      <td>EF-008</td>\n",
       "      <td>EF-008</td>\n",
       "      <td>0</td>\n",
       "      <td>0</td>\n",
       "      <td>0</td>\n",
       "    </tr>\n",
       "    <tr>\n",
       "      <th>2</th>\n",
       "      <td>TA-00002</td>\n",
       "      <td>S-0066</td>\n",
       "      <td>2013-07-07</td>\n",
       "      <td>0</td>\n",
       "      <td>0</td>\n",
       "      <td>Yes</td>\n",
       "      <td>5</td>\n",
       "      <td>6.601826</td>\n",
       "      <td>SP-0019</td>\n",
       "      <td>6.35</td>\n",
       "      <td>...</td>\n",
       "      <td>19.05</td>\n",
       "      <td>N</td>\n",
       "      <td>N</td>\n",
       "      <td>N</td>\n",
       "      <td>N</td>\n",
       "      <td>EF-008</td>\n",
       "      <td>EF-008</td>\n",
       "      <td>0</td>\n",
       "      <td>0</td>\n",
       "      <td>0</td>\n",
       "    </tr>\n",
       "    <tr>\n",
       "      <th>3</th>\n",
       "      <td>TA-00002</td>\n",
       "      <td>S-0066</td>\n",
       "      <td>2013-07-07</td>\n",
       "      <td>0</td>\n",
       "      <td>0</td>\n",
       "      <td>Yes</td>\n",
       "      <td>10</td>\n",
       "      <td>4.687770</td>\n",
       "      <td>SP-0019</td>\n",
       "      <td>6.35</td>\n",
       "      <td>...</td>\n",
       "      <td>19.05</td>\n",
       "      <td>N</td>\n",
       "      <td>N</td>\n",
       "      <td>N</td>\n",
       "      <td>N</td>\n",
       "      <td>EF-008</td>\n",
       "      <td>EF-008</td>\n",
       "      <td>0</td>\n",
       "      <td>0</td>\n",
       "      <td>0</td>\n",
       "    </tr>\n",
       "    <tr>\n",
       "      <th>4</th>\n",
       "      <td>TA-00002</td>\n",
       "      <td>S-0066</td>\n",
       "      <td>2013-07-07</td>\n",
       "      <td>0</td>\n",
       "      <td>0</td>\n",
       "      <td>Yes</td>\n",
       "      <td>25</td>\n",
       "      <td>3.541561</td>\n",
       "      <td>SP-0019</td>\n",
       "      <td>6.35</td>\n",
       "      <td>...</td>\n",
       "      <td>19.05</td>\n",
       "      <td>N</td>\n",
       "      <td>N</td>\n",
       "      <td>N</td>\n",
       "      <td>N</td>\n",
       "      <td>EF-008</td>\n",
       "      <td>EF-008</td>\n",
       "      <td>0</td>\n",
       "      <td>0</td>\n",
       "      <td>0</td>\n",
       "    </tr>\n",
       "  </tbody>\n",
       "</table>\n",
       "<p>5 rows × 38 columns</p>\n",
       "</div>"
      ],
      "text/plain": [
       "  tube_assembly_id supplier  quote_date  annual_usage  min_order_quantity  \\\n",
       "0         TA-00002   S-0066  2013-07-07             0                   0   \n",
       "1         TA-00002   S-0066  2013-07-07             0                   0   \n",
       "2         TA-00002   S-0066  2013-07-07             0                   0   \n",
       "3         TA-00002   S-0066  2013-07-07             0                   0   \n",
       "4         TA-00002   S-0066  2013-07-07             0                   0   \n",
       "\n",
       "  bracket_pricing  quantity       cost material_id_x  diameter_x   ...    \\\n",
       "0             Yes         1  21.905933       SP-0019        6.35   ...     \n",
       "1             Yes         2  12.341214       SP-0019        6.35   ...     \n",
       "2             Yes         5   6.601826       SP-0019        6.35   ...     \n",
       "3             Yes        10   4.687770       SP-0019        6.35   ...     \n",
       "4             Yes        25   3.541561       SP-0019        6.35   ...     \n",
       "\n",
       "   bend_radius_y  end_a_1x_y  end_a_2x_y  end_x_1x_y end_x_2x_y end_a_y  \\\n",
       "0          19.05           N           N           N          N  EF-008   \n",
       "1          19.05           N           N           N          N  EF-008   \n",
       "2          19.05           N           N           N          N  EF-008   \n",
       "3          19.05           N           N           N          N  EF-008   \n",
       "4          19.05           N           N           N          N  EF-008   \n",
       "\n",
       "  end_x_y num_boss_y num_bracket_y other_y  \n",
       "0  EF-008          0             0       0  \n",
       "1  EF-008          0             0       0  \n",
       "2  EF-008          0             0       0  \n",
       "3  EF-008          0             0       0  \n",
       "4  EF-008          0             0       0  \n",
       "\n",
       "[5 rows x 38 columns]"
      ]
     },
     "execution_count": 256,
     "metadata": {},
     "output_type": "execute_result"
    }
   ],
   "source": [
    "train.head()"
   ]
  },
  {
   "cell_type": "markdown",
   "metadata": {},
   "source": [
    "##réappliquer le RF"
   ]
  },
  {
   "cell_type": "code",
   "execution_count": 341,
   "metadata": {
    "collapsed": false
   },
   "outputs": [
    {
     "name": "stdout",
     "output_type": "stream",
     "text": [
      "RandomForestRegressor(bootstrap=True, criterion='mse', max_depth=25,\n",
      "           max_features='auto', max_leaf_nodes=None, min_samples_leaf=1,\n",
      "           min_samples_split=2, min_weight_fraction_leaf=0.0,\n",
      "           n_estimators=40, n_jobs=1, oob_score=False, random_state=None,\n",
      "           verbose=0, warm_start=False)\n",
      "0.453270651698\n"
     ]
    },
    {
     "data": {
      "image/png": "[encoded data removed]",
      "text/plain": [
       "<matplotlib.figure.Figure at 0x14c8ef50>"
      ]
     },
     "metadata": {},
     "output_type": "display_data"
    }
   ],
   "source": [
    "rf = en.RandomForestRegressor(n_estimators=40, max_depth=25)\n",
    "X,y = parse_2(train.copy())\n",
    "evaluate_model(rf,X,y)"
   ]
  },
  {
   "cell_type": "markdown",
   "metadata": {},
   "source": [
    "### comparer avec une régression linéaire de base"
   ]
  },
  {
   "cell_type": "code",
   "execution_count": 328,
   "metadata": {
    "collapsed": false
   },
   "outputs": [
    {
     "name": "stdout",
     "output_type": "stream",
     "text": [
      "LinearRegression(copy_X=True, fit_intercept=True, n_jobs=1, normalize=False)\n",
      "0.850484957799\n"
     ]
    },
    {
     "data": {
      "image/png": "[encoded data removed]",
      "text/plain": [
       "<matplotlib.figure.Figure at 0x1516db90>"
      ]
     },
     "metadata": {},
     "output_type": "display_data"
    }
   ],
   "source": [
    "X,y = parse_2(train.copy())\n",
    "lr = LinearRegression()\n",
    "evaluate_model(lr,X,y)"
   ]
  },
  {
   "cell_type": "markdown",
   "metadata": {},
   "source": [
    "## soumission du RF avec matrice joinée sur tube"
   ]
  },
  {
   "cell_type": "code",
   "execution_count": 355,
   "metadata": {
    "collapsed": true
   },
   "outputs": [],
   "source": [
    "def parse_3(X):\n",
    "    print X.columns\n",
    "\n",
    "    X = X[['annual_usage', 'min_order_quantity','quantity','bracket_pricing','wall','length', 'num_bends','bend_radius','num_boss','num_bracket','other']]\n",
    "    \n",
    "    to_dum = ['bracket_pricing']\n",
    "    for col in to_dum:\n",
    "        dums = pd.get_dummies(X[col], prefix=col)\n",
    "        X = X.join(dums)\n",
    "    del X['bracket_pricing']\n",
    "    return X"
   ]
  },
  {
   "cell_type": "code",
   "execution_count": 356,
   "metadata": {
    "collapsed": false,
    "scrolled": true
   },
   "outputs": [
    {
     "data": {
      "text/html": [
       "<div>\n",
       "<table border=\"1\" class=\"dataframe\">\n",
       "  <thead>\n",
       "    <tr style=\"text-align: right;\">\n",
       "      <th></th>\n",
       "      <th>id</th>\n",
       "      <th>tube_assembly_id</th>\n",
       "      <th>supplier</th>\n",
       "      <th>quote_date</th>\n",
       "      <th>annual_usage</th>\n",
       "      <th>min_order_quantity</th>\n",
       "      <th>bracket_pricing</th>\n",
       "      <th>quantity</th>\n",
       "    </tr>\n",
       "  </thead>\n",
       "  <tbody>\n",
       "    <tr>\n",
       "      <th>0</th>\n",
       "      <td>1</td>\n",
       "      <td>TA-00001</td>\n",
       "      <td>S-0066</td>\n",
       "      <td>2013-06-23</td>\n",
       "      <td>0</td>\n",
       "      <td>0</td>\n",
       "      <td>Yes</td>\n",
       "      <td>1</td>\n",
       "    </tr>\n",
       "    <tr>\n",
       "      <th>1</th>\n",
       "      <td>2</td>\n",
       "      <td>TA-00001</td>\n",
       "      <td>S-0066</td>\n",
       "      <td>2013-06-23</td>\n",
       "      <td>0</td>\n",
       "      <td>0</td>\n",
       "      <td>Yes</td>\n",
       "      <td>2</td>\n",
       "    </tr>\n",
       "    <tr>\n",
       "      <th>2</th>\n",
       "      <td>3</td>\n",
       "      <td>TA-00001</td>\n",
       "      <td>S-0066</td>\n",
       "      <td>2013-06-23</td>\n",
       "      <td>0</td>\n",
       "      <td>0</td>\n",
       "      <td>Yes</td>\n",
       "      <td>5</td>\n",
       "    </tr>\n",
       "    <tr>\n",
       "      <th>3</th>\n",
       "      <td>4</td>\n",
       "      <td>TA-00001</td>\n",
       "      <td>S-0066</td>\n",
       "      <td>2013-06-23</td>\n",
       "      <td>0</td>\n",
       "      <td>0</td>\n",
       "      <td>Yes</td>\n",
       "      <td>10</td>\n",
       "    </tr>\n",
       "    <tr>\n",
       "      <th>4</th>\n",
       "      <td>5</td>\n",
       "      <td>TA-00001</td>\n",
       "      <td>S-0066</td>\n",
       "      <td>2013-06-23</td>\n",
       "      <td>0</td>\n",
       "      <td>0</td>\n",
       "      <td>Yes</td>\n",
       "      <td>25</td>\n",
       "    </tr>\n",
       "  </tbody>\n",
       "</table>\n",
       "</div>"
      ],
      "text/plain": [
       "   id tube_assembly_id supplier  quote_date  annual_usage  min_order_quantity  \\\n",
       "0   1         TA-00001   S-0066  2013-06-23             0                   0   \n",
       "1   2         TA-00001   S-0066  2013-06-23             0                   0   \n",
       "2   3         TA-00001   S-0066  2013-06-23             0                   0   \n",
       "3   4         TA-00001   S-0066  2013-06-23             0                   0   \n",
       "4   5         TA-00001   S-0066  2013-06-23             0                   0   \n",
       "\n",
       "  bracket_pricing  quantity  \n",
       "0             Yes         1  \n",
       "1             Yes         2  \n",
       "2             Yes         5  \n",
       "3             Yes        10  \n",
       "4             Yes        25  "
      ]
     },
     "execution_count": 356,
     "metadata": {},
     "output_type": "execute_result"
    }
   ],
   "source": [
    "test_submit = pd.read_csv('data/test_set.csv')\n",
    "test_submit.head()"
   ]
  },
  {
   "cell_type": "code",
   "execution_count": 357,
   "metadata": {
    "collapsed": false
   },
   "outputs": [
    {
     "data": {
      "text/html": [
       "<div>\n",
       "<table border=\"1\" class=\"dataframe\">\n",
       "  <thead>\n",
       "    <tr style=\"text-align: right;\">\n",
       "      <th></th>\n",
       "      <th>id</th>\n",
       "      <th>tube_assembly_id</th>\n",
       "      <th>supplier</th>\n",
       "      <th>quote_date</th>\n",
       "      <th>annual_usage</th>\n",
       "      <th>min_order_quantity</th>\n",
       "      <th>bracket_pricing</th>\n",
       "      <th>quantity</th>\n",
       "      <th>material_id</th>\n",
       "      <th>diameter</th>\n",
       "      <th>...</th>\n",
       "      <th>bend_radius</th>\n",
       "      <th>end_a_1x</th>\n",
       "      <th>end_a_2x</th>\n",
       "      <th>end_x_1x</th>\n",
       "      <th>end_x_2x</th>\n",
       "      <th>end_a</th>\n",
       "      <th>end_x</th>\n",
       "      <th>num_boss</th>\n",
       "      <th>num_bracket</th>\n",
       "      <th>other</th>\n",
       "    </tr>\n",
       "  </thead>\n",
       "  <tbody>\n",
       "    <tr>\n",
       "      <th>0</th>\n",
       "      <td>1</td>\n",
       "      <td>TA-00001</td>\n",
       "      <td>S-0066</td>\n",
       "      <td>2013-06-23</td>\n",
       "      <td>0</td>\n",
       "      <td>0</td>\n",
       "      <td>Yes</td>\n",
       "      <td>1</td>\n",
       "      <td>SP-0035</td>\n",
       "      <td>12.7</td>\n",
       "      <td>...</td>\n",
       "      <td>38.1</td>\n",
       "      <td>N</td>\n",
       "      <td>N</td>\n",
       "      <td>N</td>\n",
       "      <td>N</td>\n",
       "      <td>EF-003</td>\n",
       "      <td>EF-003</td>\n",
       "      <td>0</td>\n",
       "      <td>0</td>\n",
       "      <td>0</td>\n",
       "    </tr>\n",
       "    <tr>\n",
       "      <th>1</th>\n",
       "      <td>2</td>\n",
       "      <td>TA-00001</td>\n",
       "      <td>S-0066</td>\n",
       "      <td>2013-06-23</td>\n",
       "      <td>0</td>\n",
       "      <td>0</td>\n",
       "      <td>Yes</td>\n",
       "      <td>2</td>\n",
       "      <td>SP-0035</td>\n",
       "      <td>12.7</td>\n",
       "      <td>...</td>\n",
       "      <td>38.1</td>\n",
       "      <td>N</td>\n",
       "      <td>N</td>\n",
       "      <td>N</td>\n",
       "      <td>N</td>\n",
       "      <td>EF-003</td>\n",
       "      <td>EF-003</td>\n",
       "      <td>0</td>\n",
       "      <td>0</td>\n",
       "      <td>0</td>\n",
       "    </tr>\n",
       "    <tr>\n",
       "      <th>2</th>\n",
       "      <td>3</td>\n",
       "      <td>TA-00001</td>\n",
       "      <td>S-0066</td>\n",
       "      <td>2013-06-23</td>\n",
       "      <td>0</td>\n",
       "      <td>0</td>\n",
       "      <td>Yes</td>\n",
       "      <td>5</td>\n",
       "      <td>SP-0035</td>\n",
       "      <td>12.7</td>\n",
       "      <td>...</td>\n",
       "      <td>38.1</td>\n",
       "      <td>N</td>\n",
       "      <td>N</td>\n",
       "      <td>N</td>\n",
       "      <td>N</td>\n",
       "      <td>EF-003</td>\n",
       "      <td>EF-003</td>\n",
       "      <td>0</td>\n",
       "      <td>0</td>\n",
       "      <td>0</td>\n",
       "    </tr>\n",
       "    <tr>\n",
       "      <th>3</th>\n",
       "      <td>4</td>\n",
       "      <td>TA-00001</td>\n",
       "      <td>S-0066</td>\n",
       "      <td>2013-06-23</td>\n",
       "      <td>0</td>\n",
       "      <td>0</td>\n",
       "      <td>Yes</td>\n",
       "      <td>10</td>\n",
       "      <td>SP-0035</td>\n",
       "      <td>12.7</td>\n",
       "      <td>...</td>\n",
       "      <td>38.1</td>\n",
       "      <td>N</td>\n",
       "      <td>N</td>\n",
       "      <td>N</td>\n",
       "      <td>N</td>\n",
       "      <td>EF-003</td>\n",
       "      <td>EF-003</td>\n",
       "      <td>0</td>\n",
       "      <td>0</td>\n",
       "      <td>0</td>\n",
       "    </tr>\n",
       "    <tr>\n",
       "      <th>4</th>\n",
       "      <td>5</td>\n",
       "      <td>TA-00001</td>\n",
       "      <td>S-0066</td>\n",
       "      <td>2013-06-23</td>\n",
       "      <td>0</td>\n",
       "      <td>0</td>\n",
       "      <td>Yes</td>\n",
       "      <td>25</td>\n",
       "      <td>SP-0035</td>\n",
       "      <td>12.7</td>\n",
       "      <td>...</td>\n",
       "      <td>38.1</td>\n",
       "      <td>N</td>\n",
       "      <td>N</td>\n",
       "      <td>N</td>\n",
       "      <td>N</td>\n",
       "      <td>EF-003</td>\n",
       "      <td>EF-003</td>\n",
       "      <td>0</td>\n",
       "      <td>0</td>\n",
       "      <td>0</td>\n",
       "    </tr>\n",
       "  </tbody>\n",
       "</table>\n",
       "<p>5 rows × 23 columns</p>\n",
       "</div>"
      ],
      "text/plain": [
       "   id tube_assembly_id supplier  quote_date  annual_usage  min_order_quantity  \\\n",
       "0   1         TA-00001   S-0066  2013-06-23             0                   0   \n",
       "1   2         TA-00001   S-0066  2013-06-23             0                   0   \n",
       "2   3         TA-00001   S-0066  2013-06-23             0                   0   \n",
       "3   4         TA-00001   S-0066  2013-06-23             0                   0   \n",
       "4   5         TA-00001   S-0066  2013-06-23             0                   0   \n",
       "\n",
       "  bracket_pricing  quantity material_id  diameter  ...   bend_radius  \\\n",
       "0             Yes         1     SP-0035      12.7  ...          38.1   \n",
       "1             Yes         2     SP-0035      12.7  ...          38.1   \n",
       "2             Yes         5     SP-0035      12.7  ...          38.1   \n",
       "3             Yes        10     SP-0035      12.7  ...          38.1   \n",
       "4             Yes        25     SP-0035      12.7  ...          38.1   \n",
       "\n",
       "   end_a_1x  end_a_2x  end_x_1x end_x_2x   end_a   end_x num_boss num_bracket  \\\n",
       "0         N         N         N        N  EF-003  EF-003        0           0   \n",
       "1         N         N         N        N  EF-003  EF-003        0           0   \n",
       "2         N         N         N        N  EF-003  EF-003        0           0   \n",
       "3         N         N         N        N  EF-003  EF-003        0           0   \n",
       "4         N         N         N        N  EF-003  EF-003        0           0   \n",
       "\n",
       "  other  \n",
       "0     0  \n",
       "1     0  \n",
       "2     0  \n",
       "3     0  \n",
       "4     0  \n",
       "\n",
       "[5 rows x 23 columns]"
      ]
     },
     "execution_count": 357,
     "metadata": {},
     "output_type": "execute_result"
    }
   ],
   "source": [
    "test_submit = pd.merge(test_submit,tube, on='tube_assembly_id')\n",
    "test_submit.head()\n"
   ]
  },
  {
   "cell_type": "code",
   "execution_count": 358,
   "metadata": {
    "collapsed": false
   },
   "outputs": [
    {
     "name": "stdout",
     "output_type": "stream",
     "text": [
      "Index([u'id', u'tube_assembly_id', u'supplier', u'quote_date', u'annual_usage',\n",
      "       u'min_order_quantity', u'bracket_pricing', u'quantity', u'material_id',\n",
      "       u'diameter', u'wall', u'length', u'num_bends', u'bend_radius',\n",
      "       u'end_a_1x', u'end_a_2x', u'end_x_1x', u'end_x_2x', u'end_a', u'end_x',\n",
      "       u'num_boss', u'num_bracket', u'other'],\n",
      "      dtype='object')\n",
      "generated submit/submit_2015-07-17-16-26.csv\n"
     ]
    }
   ],
   "source": [
    "#test_submit = test_submit.drop(['id'],axis=1)\n",
    "# Codage de la matrice X\n",
    "X_submit = parse_3(test_submit.copy())\n",
    "#X_submit2 = X_submit.drop(['id'],axis=1)\n",
    "# Initialisation et évaluation de la RF\n",
    "rf = en.RandomForestRegressor(n_estimators=40, max_depth=25)\n",
    "#X,y = parse_2(train.copy())\n",
    "rf.fit(X,y)\n",
    "#evaluate_model(rf,X_submit,y)\n",
    "# Prediction du y sur X\n",
    "y_submit = rf.predict(X_submit)\n",
    "# génréation du fichier de submit\n",
    "submit(test_submit,y_submit)"
   ]
  },
  {
   "cell_type": "code",
   "execution_count": 344,
   "metadata": {
    "collapsed": false
   },
   "outputs": [
    {
     "data": {
      "text/plain": [
       "array([ 26.05002409,  15.56851484,   8.42750421, ...,   3.66086399,\n",
       "        18.09940332,  36.72943919])"
      ]
     },
     "execution_count": 344,
     "metadata": {},
     "output_type": "execute_result"
    }
   ],
   "source": []
  },
  {
   "cell_type": "code",
   "execution_count": 316,
   "metadata": {
    "collapsed": false
   },
   "outputs": [
    {
     "data": {
      "text/plain": [
       "RandomForestRegressor(bootstrap=True, criterion='mse', max_depth=25,\n",
       "           max_features='auto', max_leaf_nodes=None, min_samples_leaf=1,\n",
       "           min_samples_split=2, min_weight_fraction_leaf=0.0,\n",
       "           n_estimators=40, n_jobs=1, oob_score=False, random_state=None,\n",
       "           verbose=0, warm_start=False)"
      ]
     },
     "execution_count": 316,
     "metadata": {},
     "output_type": "execute_result"
    }
   ],
   "source": [
    "rf.fit(X,y)"
   ]
  },
  {
   "cell_type": "code",
   "execution_count": 317,
   "metadata": {
    "collapsed": false
   },
   "outputs": [
    {
     "data": {
      "text/html": [
       "<div>\n",
       "<table border=\"1\" class=\"dataframe\">\n",
       "  <thead>\n",
       "    <tr style=\"text-align: right;\">\n",
       "      <th></th>\n",
       "      <th>annual_usage</th>\n",
       "      <th>min_order_quantity</th>\n",
       "      <th>quantity</th>\n",
       "      <th>wall</th>\n",
       "      <th>length</th>\n",
       "      <th>num_bends</th>\n",
       "      <th>bend_radius</th>\n",
       "      <th>num_boss</th>\n",
       "      <th>num_bracket</th>\n",
       "      <th>other</th>\n",
       "      <th>bracket_pricing_No</th>\n",
       "      <th>bracket_pricing_Yes</th>\n",
       "    </tr>\n",
       "  </thead>\n",
       "  <tbody>\n",
       "    <tr>\n",
       "      <th>0</th>\n",
       "      <td>0</td>\n",
       "      <td>0</td>\n",
       "      <td>1</td>\n",
       "      <td>0.71</td>\n",
       "      <td>137</td>\n",
       "      <td>8</td>\n",
       "      <td>19.05</td>\n",
       "      <td>0</td>\n",
       "      <td>0</td>\n",
       "      <td>0</td>\n",
       "      <td>0</td>\n",
       "      <td>1</td>\n",
       "    </tr>\n",
       "    <tr>\n",
       "      <th>1</th>\n",
       "      <td>0</td>\n",
       "      <td>0</td>\n",
       "      <td>2</td>\n",
       "      <td>0.71</td>\n",
       "      <td>137</td>\n",
       "      <td>8</td>\n",
       "      <td>19.05</td>\n",
       "      <td>0</td>\n",
       "      <td>0</td>\n",
       "      <td>0</td>\n",
       "      <td>0</td>\n",
       "      <td>1</td>\n",
       "    </tr>\n",
       "    <tr>\n",
       "      <th>2</th>\n",
       "      <td>0</td>\n",
       "      <td>0</td>\n",
       "      <td>5</td>\n",
       "      <td>0.71</td>\n",
       "      <td>137</td>\n",
       "      <td>8</td>\n",
       "      <td>19.05</td>\n",
       "      <td>0</td>\n",
       "      <td>0</td>\n",
       "      <td>0</td>\n",
       "      <td>0</td>\n",
       "      <td>1</td>\n",
       "    </tr>\n",
       "    <tr>\n",
       "      <th>3</th>\n",
       "      <td>0</td>\n",
       "      <td>0</td>\n",
       "      <td>10</td>\n",
       "      <td>0.71</td>\n",
       "      <td>137</td>\n",
       "      <td>8</td>\n",
       "      <td>19.05</td>\n",
       "      <td>0</td>\n",
       "      <td>0</td>\n",
       "      <td>0</td>\n",
       "      <td>0</td>\n",
       "      <td>1</td>\n",
       "    </tr>\n",
       "    <tr>\n",
       "      <th>4</th>\n",
       "      <td>0</td>\n",
       "      <td>0</td>\n",
       "      <td>25</td>\n",
       "      <td>0.71</td>\n",
       "      <td>137</td>\n",
       "      <td>8</td>\n",
       "      <td>19.05</td>\n",
       "      <td>0</td>\n",
       "      <td>0</td>\n",
       "      <td>0</td>\n",
       "      <td>0</td>\n",
       "      <td>1</td>\n",
       "    </tr>\n",
       "  </tbody>\n",
       "</table>\n",
       "</div>"
      ],
      "text/plain": [
       "   annual_usage  min_order_quantity  quantity  wall  length  num_bends  \\\n",
       "0             0                   0         1  0.71     137          8   \n",
       "1             0                   0         2  0.71     137          8   \n",
       "2             0                   0         5  0.71     137          8   \n",
       "3             0                   0        10  0.71     137          8   \n",
       "4             0                   0        25  0.71     137          8   \n",
       "\n",
       "   bend_radius  num_boss  num_bracket  other  bracket_pricing_No  \\\n",
       "0        19.05         0            0      0                   0   \n",
       "1        19.05         0            0      0                   0   \n",
       "2        19.05         0            0      0                   0   \n",
       "3        19.05         0            0      0                   0   \n",
       "4        19.05         0            0      0                   0   \n",
       "\n",
       "   bracket_pricing_Yes  \n",
       "0                    1  \n",
       "1                    1  \n",
       "2                    1  \n",
       "3                    1  \n",
       "4                    1  "
      ]
     },
     "execution_count": 317,
     "metadata": {},
     "output_type": "execute_result"
    }
   ],
   "source": [
    "X.head()"
   ]
  },
  {
   "cell_type": "code",
   "execution_count": null,
   "metadata": {
    "collapsed": true
   },
   "outputs": [],
   "source": []
  }
 ],
 "metadata": {
  "kernelspec": {
   "display_name": "Python 2",
   "language": "python",
   "name": "python2"
  },
  "language_info": {
   "codemirror_mode": {
    "name": "ipython",
    "version": 2
   },
   "file_extension": ".py",
   "mimetype": "text/x-python",
   "name": "python",
   "nbconvert_exporter": "python",
   "pygments_lexer": "ipython2",
   "version": "2.7.10"
  }
 },
 "nbformat": 4,
 "nbformat_minor": 0
}
